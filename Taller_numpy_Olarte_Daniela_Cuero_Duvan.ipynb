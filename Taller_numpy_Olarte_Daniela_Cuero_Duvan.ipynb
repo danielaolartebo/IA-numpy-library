{
 "cells": [
  {
   "cell_type": "markdown",
   "id": "directed-environment",
   "metadata": {
    "pycharm": {
     "name": "#%% md\n"
    }
   },
   "source": [
    "__Integrantes:__\n",
    "\n",
    "+ Nombre: Daniela Olarte \n",
    "+ Nombre: Duvan Cuero"
   ]
  },
  {
   "cell_type": "markdown",
   "id": "chemical-relation",
   "metadata": {
    "pycharm": {
     "name": "#%% md\n"
    }
   },
   "source": [
    "# Unidad 1"
   ]
  },
  {
   "cell_type": "markdown",
   "id": "multiple-generator",
   "metadata": {
    "pycharm": {
     "name": "#%% md\n"
    }
   },
   "source": [
    "**Ejercicio 1.**\n",
    "\n",
    "Instale la libreria [*NLTK*](http://www.nltk.org/howto/twitter.html) e imprima la versión de esta"
   ]
  },
  {
   "cell_type": "markdown",
   "id": "f71c60c3",
   "metadata": {
    "pycharm": {
     "name": "#%% md\n"
    }
   },
   "source": [
    "![Imagen](https://cdn.discordapp.com/attachments/753000876494290995/1016419161955631114/Captura_de_Pantalla_2022-09-05_a_las_1.43.47_p.m..png)"
   ]
  },
  {
   "cell_type": "markdown",
   "id": "suitable-boost",
   "metadata": {
    "pycharm": {
     "name": "#%% md\n"
    }
   },
   "source": [
    "**Ejercicio 2.**\n",
    "\n",
    "Ejecute el las siguientes lineas de código e imprima por pantalla los primeros 100 registros del *train_x*. ¿Presenta algún error? si es así escriba la solución en un comentario \n",
    "\n",
    "```python\n",
    "\n",
    "from nltk.corpus import twitter_samples \n",
    "\n",
    "all_positive_tweets = twitter_samples.strings('positive_tweets.json')\n",
    "all_negative_tweets = twitter_samples.strings('negative_tweets.json')\n",
    "\n",
    "tweets = all_positive_tweets + all_negative_tweets ## Concatenate the lists. \n",
    "labels = np.append(np.ones((len(all_positive_tweets),1)), np.zeros((len(all_negative_tweets),1)), axis = 0)\n",
    "\n",
    "train_pos  = all_positive_tweets[:4000]\n",
    "train_neg  = all_negative_tweets[:4000]\n",
    "\n",
    "train_x = train_pos + train_neg \n",
    "```"
   ]
  },
  {
   "cell_type": "code",
   "execution_count": 47,
   "id": "1ef27cc1",
   "metadata": {
    "collapsed": false,
    "pycharm": {
     "name": "#%%\n"
    }
   },
   "outputs": [
    {
     "name": "stderr",
     "output_type": "stream",
     "text": [
      "[nltk_data] Downloading package twitter_samples to\n",
      "[nltk_data]     /Users/danielaolarte/nltk_data...\n",
      "[nltk_data]   Package twitter_samples is already up-to-date!\n"
     ]
    },
    {
     "name": "stdout",
     "output_type": "stream",
     "text": [
      "['#FollowFriday @France_Inte @PKuchly57 @Milipol_Paris for being top engaged members in my community this week :)', '@Lamb2ja Hey James! How odd :/ Please call our Contact Centre on 02392441234 and we will be able to assist you :) Many thanks!', '@DespiteOfficial we had a listen last night :) As You Bleed is an amazing track. When are you in Scotland?!', '@97sides CONGRATS :)', 'yeaaaah yippppy!!!  my accnt verified rqst has succeed got a blue tick mark on my fb profile :) in 15 days', '@BhaktisBanter @PallaviRuhail This one is irresistible :)\\n#FlipkartFashionFriday http://t.co/EbZ0L2VENM', \"We don't like to keep our lovely customers waiting for long! We hope you enjoy! Happy Friday! - LWWF :) https://t.co/smyYriipxI\", '@Impatientraider On second thought, there’s just not enough time for a DD :) But new shorts entering system. Sheep must be buying.', 'Jgh , but we have to go to Bayan :D bye', 'As an act of mischievousness, am calling the ETL layer of our in-house warehousing app Katamari.\\n\\nWell… as the name implies :p.', '#FollowFriday @wncer1 @Defense_gouv for being top influencers in my community this week :)', \"Who Wouldn't Love These Big....Juicy....Selfies :) - http://t.co/QVzjgd1uFo http://t.co/oWBL11eQRY\", '@Mish23615351  follow @jnlazts &amp; http://t.co/RCvcYYO0Iq follow u back :)', \"@jjulieredburn Perfect, so you already know what's waiting for you :)\", 'Great new opportunity for junior triathletes aged 12 and 13 at the Gatorade series! Get your entries in :) http://t.co/of3DyOzML0', 'Laying out a greetings card range for print today - love my job :-)', \"Friend's lunch... yummmm :)\\n#Nostalgia #TBS #KU.\", \"@RookieSenpai @arcadester it is the id conflict thanks for the help :D here's the screenshot of it working\", '@oohdawg_ Hi liv :))', 'Hello I need to know something can u fm me on Twitter?? — sure thing :) dm me x http://t.co/W6Dy130BV7', '#FollowFriday @MBandScott_ @Eric_FLE @pointsolutions3 for being top new followers in my community this week :)', \"@rossbreadmore I've heard the Four Seasons is pretty dope. Penthouse, obvs #Gobigorgohome\\nHave fun y'all :)\", '@gculloty87 Yeah I suppose she was lol! Chat in a bit just off out x :))', 'Hello :) Get Youth Job Opportunities follow &gt;&gt; @tolajobjobs @maphisa301', \"💅🏽💋 - :)))) haven't seen you in years\", '@Bosslogic @amellywood @CW_Arrow @ARROWwriters Thank you! :-)', '@johngutierrez1 hope the rest of your night goes by quickly... I am off to bed... got my music fix and now it is time to dream  :)', 'Spiritual Ritual Festival (Népal)\\nBeginning of Line-up :)\\nIt is left for the line-up (y)\\nSee more at:... http://t.co/QMNz62OEuc', \"@ke7zum Hey Sarah! Send us an email at bitsy@bitdefender.com and we'll help you asap :)\", '@izzkamilhalda lols. :D', 'MY kik - hatessuce32429 #kik #kikme #lgbt #tinder #nsfw #akua #cumshot :) http://t.co/TnHJD36yzf', '@KalinWhite come to my house :)))))', '#nsn_supplements, Effective press release distribution with results! :) [link removed] #PressRelease #NewsDistribution', 'Hi BAM ! @BarsAndMelody \\nCan you follow my bestfriend @969Horan696 ? \\nShe loves you a lot :) \\nSee you in Warsaw &lt;3 \\nLove you &lt;3 x46', 'everyone watch the documentary Earthlings on YouTube :-)', '@jamiefigsxx  follow @jnlazts &amp; http://t.co/RCvcYYO0Iq follow u back :)', '#FollowFriday @MichelBauza @InvataOnline for being top supports in my community this week :)', 'buuuuuuuut oh well :-)', '@leisuremarkltd @NoshandQuaff @aktarislam @keanebrands @HeritageSilver I am looking forward to visiting next week #letsgetmessy Jo :-)', '@sehunshinedaily if it makes u feel better i never have nor will see anyone in kpop in the flesh :D', '@Joyster2012 @CathStaincliffe Good for you, girl!! Best wishes :-)', '@_Kimimi A great enough reason to listen to one epic soundtrack. :D', '@AquaDesignGroup Thank you for the shout out. Have a great Friday :)', 'I added a video to a @YouTube playlist http://t.co/yzpfsMxUq0 im back on twitch and today it going to be league :) - 1 / 4', 'Would love to see you dear in #Jordan :) waiting you! @FIRDOZ  :) @VisitJordan @dannyprol', '@ABNORMAL_ANA92 oh, okay :D thanks!', '@sssniperwolf like how to fake gameplays ;) haha Im kidding, im kidding. You do good stuff :).', '@dennislami @Dicle_Aygur, yeah exactly :)', 'Our new product line is in our #etsy shop now! Check it out :) http://t.co/h8exCTLQxg #boxroomcrafts', '@PeakYourMind I hope your vacation is going great! :D', '@groovinshawn they are rechargeable and it normally comes with a charger when u buy it :)', '#FollowFriday @France_Espana @reglisse_menthe @CCI_inter for being top engaged members in my community this week :)', \"Well she's asleep and I have no one to talk to sooo someone text me :)\", \"@brynybrath @smallcappy Yes, I suppose. I bet he'll have a blue fit after hearing her speech today. Pity :-)\", 'Green gardens, midnight sun, beautiful canals dasvidaniya till next visit.:)', '@KeithRParsons are you scouting SG for a future WLAN pros conference here in Asia? :)', '@Cecilie_Hell @420evilangel @wazimotometal @durooooooo @spigranty Good for u, better change it to lollipop 🍭 :).', 'We &lt;3 u Nez :) #AGNEZMO https://t.co/cGViMHSINz', '@LittleMix Follow me Please :)  This is my Big Dream :)', '@Elemaaan  oley be :D', '\"@CowokAddict: Mama is the only reason why I stand stronger up to now! :)\"', '@MacatangayApril  follow @jnlazts &amp; http://t.co/RCvcYYO0Iq follow u back :)', '@tk_kjk_kndr @boukendreamer OH MY GOD MISTY, MY BABY IS SO CUTE!!! :D', '@BhaktisBanter \\n\\nI love blue :)\\n#FlipkartFashionFriday http://t.co/HnbinH35ES', \"@CarcassDrop Woohoo! Can't wait :) Have you signed up yet, or still thinking about it? MKa\", 'i have liam access now :))', '@SyuhxdxTengku most welcome :)', 'Stats for the day have arrived. 1 new follower and NO unfollowers :) via http://t.co/p6K6SiH58a.', \"@sluttywife2 you shouldn't be surprised...you have an amazing figure :)\", '#FollowFriday @murtishaw @aqui_fr @FRTechStartups for being top influencers in my community this week :)', '#HappyBirthdayEmilyBett @emilybett :) Wishing you all the best you beautiful,sweet,talented,amazing… https://t.co/humtC1tr3I', '2 plans for the day down the drain great :):', '@x123456789tine @5SOS_FAHUpdates gotta love timezones :p', 'are your parents proud of you — lol, not in the least :D maybe sometimes they get happy because of my grades, al... http://t.co/bJjeGIOOGU', 'Grande :)  https://t.co/gsaaxNpR8u', 'Manila_bro has chosen to follow me on Twitter! http://t.co/lKXZWXN1fb. Thanks for the follow :)', \"@syazwanzainal sure let me know when you're around..at this side of the world #eh u too take care :-)\", '#FollowFriday @michae1green @superninjaalan @Doug_Laney for being top new followers in my community this week :)', 'finally the fucking weekend :)', 'REAL :)', '@LoLEsportspedia thanks :D', 'Hi BAM ! @BarsAndMelody \\nCan you follow my bestfriend @969Horan696 ? \\nShe loves you a lot :) \\nSee you in Warsaw &lt;3 \\nLove you &lt;3 x45', 'YES! I Joined #HushedCallWithFraydoe for a call &amp; gift from @_Fraydoe &lt;3 Gotta Get @HushedApp :D http://t.co/VaLVe8omdT', '@YasLarry yeahhh :)', 'can I DM you &amp; make your night better :)))', 'just joined the #HushedPinWithSammy Event :D Might get to Text with @SammyWilk for a day! Luv U @HushedApp http://t.co/kGfgawdHy9', 'Would really appreciate it if you share this video around :) https://t.co/MhK3B3wOpQ', 'Hello :) Get Youth Job Opportunities follow &gt;&gt; @tolajobjobs @xhebenkewu_9920', '@TomParker oh wow!! That is beautiful tom :)', 'Love You @darlingIXHAI22 @SyreenAnne :)) https://t.co/wx7yRrE7sV', 'I added a video to a @YouTube playlist http://t.co/HVVPhSYakA im back on twitch and today it going to be league :) - 1 / 3', '#FollowFriday @AmericanOGrain @PecomeP @APaulicand for being top supports in my community this week :)', '@ZaynZaynmalik30  follow @jnlazts &amp; http://t.co/RCvcYYO0Iq follow u back :)', \"Gym Monday can't wait :). Likes\", \"@HarNiLiZaLouis Hey, here's your invite to join Scope as an influencer :)  http://t.co/rZgZtQ2fJT\", 'Those friends know themselves :)', 'waiting for nudes :-)', '@JacobWhitesides go sleep u ! :)))))))))', 'Stats for the day have arrived. 1 new follower and NO unfollowers :) via http://t.co/RB8pMNgMEo.', 'My birthday is a week today! :D']\n"
     ]
    }
   ],
   "source": [
    "import numpy as np\n",
    "import nltk\n",
    "nltk.download('twitter_samples')\n",
    "from nltk.corpus import twitter_samples \n",
    "\n",
    "all_positive_tweets = twitter_samples.strings('positive_tweets.json')\n",
    "all_negative_tweets = twitter_samples.strings('negative_tweets.json')\n",
    "\n",
    "tweets = all_positive_tweets + all_negative_tweets \n",
    "labels = np.append(np.ones((len(all_positive_tweets),1)), np.zeros((len(all_negative_tweets),1)), axis = 0)\n",
    "\n",
    "train_pos  = all_positive_tweets[:4000]\n",
    "train_neg  = all_negative_tweets[:4000]\n",
    "\n",
    "train_x = train_pos + train_neg \n",
    "\n",
    "print(train_x[0:100])"
   ]
  },
  {
   "cell_type": "markdown",
   "metadata": {
    "collapsed": false,
    "pycharm": {
     "name": "#%% md\n"
    }
   },
   "source": [
    "Imprimir train_x no presenta ningun error."
   ]
  },
  {
   "cell_type": "markdown",
   "metadata": {
    "collapsed": false,
    "pycharm": {
     "name": "#%% md\n"
    }
   },
   "source": [
    "**Ejercicio 3.**\n",
    "\n",
    "Ejecute las siguientes lineas de código\n",
    "```python\n",
    "import re \n",
    "\n",
    "tweet = all_positive_tweets[2277]\n",
    "\n",
    "print('\\033[92m' + tweet)\n",
    "print('\\033[94m')\n",
    "\n",
    "tweet2 = re.sub(r'https?:\\/\\/.*[\\r\\n]*', '', tweet)\n",
    "\n",
    "tweet2 = re.sub(r'#', '', tweet2)\n",
    "\n",
    "print(tweet2)\n",
    "```\n",
    "+ Investigue el proposito de la libreria `re` y escriba este resultado en una celda markdown\n",
    "+ Describa en una celda markdown el resultado de la ejecución de cada `re.sub`\n",
    "+ Convierta *tweet2* a minusculas."
   ]
  },
  {
   "cell_type": "code",
   "execution_count": 48,
   "id": "08fbd7b3",
   "metadata": {},
   "outputs": [
    {
     "name": "stdout",
     "output_type": "stream",
     "text": [
      "\u001b[92mMy beautiful sunflowers on a sunny Friday morning off :) #sunflowers #favourites #happy #Friday off… https://t.co/3tfYom0N1i\n",
      "\u001b[94m\n",
      "my beautiful sunflowers on a sunny friday morning off :) sunflowers favourites happy friday off… \n"
     ]
    }
   ],
   "source": [
    "import re \n",
    "\n",
    "tweet = all_positive_tweets[2277]\n",
    "\n",
    "print('\\033[92m' + tweet)\n",
    "print('\\033[94m')\n",
    "\n",
    "tweet2 = re.sub(r'https?:\\/\\/.*[\\r\\n]*', '', tweet)\n",
    "\n",
    "tweet2 = re.sub(r'#', '', tweet2)\n",
    "tweet2 = tweet2.lower()\n",
    "\n",
    "print(tweet2)"
   ]
  },
  {
   "cell_type": "markdown",
   "id": "03c1b5f0",
   "metadata": {},
   "source": [
    "- La libreria Re proporciona operaciones de coincidencia de expresiones regulares similares a las encontradas en Perl.\n",
    "Una expresión regular (RE) especifica un conjunto de cadenas que coinciden con ella; las funciones de este módulo permiten comprobar si una determinada cadena coincide con una expresión regular dada (o si una expresión regular dada coincide con una determinada cadena, que se reduce a lo mismo).\n",
    "\n",
    "- Retorna la cadena obtenida reemplazando las ocurrencias no superpuestas del pattern («patrón») en la string («cadena») por el reemplazo de repl. Si el patrón no se encuentra, se retorna string sin cambios. repl puede ser una cadena o una función; si es una cadena, cualquier barra inversa escapada en ella es procesada. Es decir, se convierte en un carácter de una sola línea nueva, se convierte en un retorno de carro, y así sucesivamente. Los escapes desconocidos de las letras ASCII se reservan para un uso futuro y se tratan como errores. "
   ]
  },
  {
   "cell_type": "markdown",
   "metadata": {
    "collapsed": false,
    "pycharm": {
     "name": "#%% md\n"
    }
   },
   "source": [
    "**Ejercicio 4.**\n",
    "\n",
    "\n",
    "$$Ro = \\begin{bmatrix} cos \\theta & -sin \\theta \\\\ sin \\theta & cos \\theta \\end{bmatrix}$$\n",
    "$$x = \\begin{bmatrix} 2 \\\\  2 \\end{bmatrix}$$\n",
    "\n",
    "Aplique la siguiente operación\n",
    " $$y = x \\cdot Ro$$"
   ]
  },
  {
   "cell_type": "markdown",
   "id": "dress-trail",
   "metadata": {
    "pycharm": {
     "name": "#%% md\n"
    }
   },
   "source": [
    "**Ejercicio 4.**\n",
    "\n",
    "\n",
    "$$Ro = \\begin{bmatrix} cos \\theta & -sin \\theta \\\\ sin \\theta & cos \\theta \\end{bmatrix}$$\n",
    "$$x = \\begin{bmatrix} 2 \\\\  2 \\end{bmatrix}$$\n",
    "\n",
    "Aplique la siguiente operación\n",
    " $$y = x \\cdot Ro$$"
   ]
  },
  {
   "cell_type": "code",
   "execution_count": 49,
   "id": "comic-performer",
   "metadata": {
    "pycharm": {
     "name": "#%%\n"
    }
   },
   "outputs": [
    {
     "name": "stdout",
     "output_type": "stream",
     "text": [
      "[[-2.31691186]\n",
      " [ 1.62231915]]\n"
     ]
    }
   ],
   "source": [
    "angle = 100 * (np.pi / 180) \n",
    "ro = np.array([[np.cos(angle), -np.sin(angle)], [np.sin(angle), np.cos(angle)]])\n",
    "x = np.array([[2], [2]])\n",
    "y = np.dot(ro, x)\n",
    "\n",
    "print(y)"
   ]
  },
  {
   "cell_type": "markdown",
   "id": "worldwide-storm",
   "metadata": {
    "pycharm": {
     "name": "#%% md\n"
    }
   },
   "source": [
    "Salida esperada\n",
    "```\n",
    "[[ 1.62231915 -2.31691186]]\n",
    "```"
   ]
  },
  {
   "cell_type": "markdown",
   "id": "atlantic-canadian",
   "metadata": {
    "pycharm": {
     "name": "#%% md\n"
    }
   },
   "source": [
    "**Ejercicio 5.**\n",
    "\n",
    "Aplique la siguientes operaciones a `A`\n",
    "\n",
    "$$\\|\\mathrm{A}\\|_{F} \\equiv \\sqrt{\\sum_{i=1}^{m} \\sum_{j=1}^{n}\\left|a_{i j}\\right|^{2}}$$\n"
   ]
  },
  {
   "cell_type": "code",
   "execution_count": 50,
   "id": "adaptive-integer",
   "metadata": {
    "pycharm": {
     "name": "#%%\n"
    }
   },
   "outputs": [
    {
     "name": "stdout",
     "output_type": "stream",
     "text": [
      "4.0\n"
     ]
    }
   ],
   "source": [
    "import math\n",
    "A = np.array([[2, 2],\n",
    "              [2, 2]])\n",
    "\n",
    "sum = 0\n",
    "\n",
    "for i in A:\n",
    "    for j in i:\n",
    "        sum += np.abs(j)**2\n",
    "\n",
    "print(np.sqrt(sum))"
   ]
  },
  {
   "cell_type": "markdown",
   "id": "published-problem",
   "metadata": {
    "pycharm": {
     "name": "#%% md\n"
    }
   },
   "source": [
    "Salida esperada\n",
    "```\n",
    "4\n",
    "```"
   ]
  },
  {
   "cell_type": "markdown",
   "id": "coordinated-jefferson",
   "metadata": {
    "pycharm": {
     "name": "#%% md\n"
    }
   },
   "source": [
    "***"
   ]
  },
  {
   "cell_type": "markdown",
   "id": "foster-dover",
   "metadata": {
    "pycharm": {
     "name": "#%% md\n"
    }
   },
   "source": [
    "Ejecute las siguientes lineas de código para los ejercicios 6-7\n",
    "```python\n",
    "from sklearn.datasets import load_wine\n",
    "import pandas as pd\n",
    "\n",
    "df = pd.DataFrame(load_wine().data, columns= load_wine().feature_names)\n",
    "df[\"target\"] = load_wine().target\n",
    "```"
   ]
  },
  {
   "cell_type": "code",
   "execution_count": 51,
   "id": "06537f4b",
   "metadata": {},
   "outputs": [
    {
     "name": "stdout",
     "output_type": "stream",
     "text": [
      "          alcohol  malic_acid         ash  alcalinity_of_ash   magnesium  \\\n",
      "count  178.000000  178.000000  178.000000         178.000000  178.000000   \n",
      "mean    13.000618    2.336348    2.366517          19.494944   99.741573   \n",
      "std      0.811827    1.117146    0.274344           3.339564   14.282484   \n",
      "min     11.030000    0.740000    1.360000          10.600000   70.000000   \n",
      "25%     12.362500    1.602500    2.210000          17.200000   88.000000   \n",
      "50%     13.050000    1.865000    2.360000          19.500000   98.000000   \n",
      "75%     13.677500    3.082500    2.557500          21.500000  107.000000   \n",
      "max     14.830000    5.800000    3.230000          30.000000  162.000000   \n",
      "\n",
      "       total_phenols  flavanoids  nonflavanoid_phenols  proanthocyanins  \\\n",
      "count     178.000000  178.000000            178.000000       178.000000   \n",
      "mean        2.295112    2.029270              0.361854         1.590899   \n",
      "std         0.625851    0.998859              0.124453         0.572359   \n",
      "min         0.980000    0.340000              0.130000         0.410000   \n",
      "25%         1.742500    1.205000              0.270000         1.250000   \n",
      "50%         2.355000    2.135000              0.340000         1.555000   \n",
      "75%         2.800000    2.875000              0.437500         1.950000   \n",
      "max         3.880000    5.080000              0.660000         3.580000   \n",
      "\n",
      "       color_intensity         hue  od280/od315_of_diluted_wines      proline  \\\n",
      "count       178.000000  178.000000                    178.000000   178.000000   \n",
      "mean          5.058090    0.957449                      2.611685   746.893258   \n",
      "std           2.318286    0.228572                      0.709990   314.907474   \n",
      "min           1.280000    0.480000                      1.270000   278.000000   \n",
      "25%           3.220000    0.782500                      1.937500   500.500000   \n",
      "50%           4.690000    0.965000                      2.780000   673.500000   \n",
      "75%           6.200000    1.120000                      3.170000   985.000000   \n",
      "max          13.000000    1.710000                      4.000000  1680.000000   \n",
      "\n",
      "           target  \n",
      "count  178.000000  \n",
      "mean     0.938202  \n",
      "std      0.775035  \n",
      "min      0.000000  \n",
      "25%      0.000000  \n",
      "50%      1.000000  \n",
      "75%      2.000000  \n",
      "max      2.000000  \n",
      "alcohol\n",
      "12.37    6\n",
      "13.05    6\n",
      "12.08    5\n",
      "12.29    4\n",
      "12.25    3\n",
      "        ..\n",
      "12.69    1\n",
      "12.67    1\n",
      "12.64    1\n",
      "12.58    1\n",
      "14.83    1\n",
      "Length: 126, dtype: int64\n",
      "malic_acid\n",
      "1.73    7\n",
      "1.67    4\n",
      "1.81    4\n",
      "1.35    3\n",
      "1.90    3\n",
      "       ..\n",
      "1.86    1\n",
      "1.80    1\n",
      "1.78    1\n",
      "1.76    1\n",
      "5.80    1\n",
      "Length: 133, dtype: int64\n",
      "ash\n",
      "2.30    7\n",
      "2.28    7\n",
      "2.36    6\n",
      "2.70    6\n",
      "2.32    6\n",
      "       ..\n",
      "2.37    1\n",
      "2.43    1\n",
      "2.44    1\n",
      "2.52    1\n",
      "3.23    1\n",
      "Length: 79, dtype: int64\n",
      "alcalinity_of_ash\n",
      "20.0    15\n",
      "16.0    11\n",
      "21.0    11\n",
      "18.0    10\n",
      "19.0     9\n",
      "        ..\n",
      "17.8     1\n",
      "18.1     1\n",
      "11.2     1\n",
      "18.9     1\n",
      "30.0     1\n",
      "Length: 63, dtype: int64\n",
      "magnesium\n",
      "88.0     13\n",
      "86.0     11\n",
      "98.0      9\n",
      "101.0     9\n",
      "96.0      8\n",
      "102.0     7\n",
      "112.0     6\n",
      "94.0      6\n",
      "85.0      6\n",
      "92.0      5\n",
      "103.0     5\n",
      "80.0      5\n",
      "97.0      5\n",
      "89.0      5\n",
      "106.0     4\n",
      "90.0      4\n",
      "107.0     4\n",
      "108.0     4\n",
      "78.0      3\n",
      "104.0     3\n",
      "100.0     3\n",
      "95.0      3\n",
      "111.0     3\n",
      "116.0     3\n",
      "87.0      3\n",
      "84.0      3\n",
      "118.0     3\n",
      "120.0     3\n",
      "110.0     3\n",
      "113.0     2\n",
      "115.0     2\n",
      "105.0     2\n",
      "93.0      2\n",
      "91.0      2\n",
      "124.0     1\n",
      "136.0     1\n",
      "134.0     1\n",
      "139.0     1\n",
      "132.0     1\n",
      "151.0     1\n",
      "128.0     1\n",
      "127.0     1\n",
      "126.0     1\n",
      "70.0      1\n",
      "123.0     1\n",
      "122.0     1\n",
      "121.0     1\n",
      "119.0     1\n",
      "117.0     1\n",
      "99.0      1\n",
      "82.0      1\n",
      "81.0      1\n",
      "162.0     1\n",
      "dtype: int64\n",
      "total_phenols\n",
      "2.20    8\n",
      "3.00    6\n",
      "2.60    6\n",
      "2.80    6\n",
      "2.95    5\n",
      "       ..\n",
      "1.92    1\n",
      "1.89    1\n",
      "1.88    1\n",
      "1.85    1\n",
      "3.88    1\n",
      "Length: 97, dtype: int64\n",
      "flavanoids\n",
      "2.65    4\n",
      "0.58    3\n",
      "2.03    3\n",
      "1.25    3\n",
      "2.68    3\n",
      "       ..\n",
      "1.61    1\n",
      "1.60    1\n",
      "1.58    1\n",
      "1.50    1\n",
      "5.08    1\n",
      "Length: 132, dtype: int64\n",
      "nonflavanoid_phenols\n",
      "0.26    11\n",
      "0.43    11\n",
      "0.29    10\n",
      "0.32     9\n",
      "0.37     8\n",
      "0.40     8\n",
      "0.34     8\n",
      "0.30     8\n",
      "0.27     8\n",
      "0.53     7\n",
      "0.24     7\n",
      "0.22     6\n",
      "0.21     6\n",
      "0.52     5\n",
      "0.50     5\n",
      "0.39     5\n",
      "0.28     5\n",
      "0.17     5\n",
      "0.63     4\n",
      "0.48     4\n",
      "0.47     4\n",
      "0.42     4\n",
      "0.45     3\n",
      "0.61     3\n",
      "0.60     3\n",
      "0.58     3\n",
      "0.25     2\n",
      "0.14     2\n",
      "0.20     2\n",
      "0.31     2\n",
      "0.19     2\n",
      "0.56     1\n",
      "0.13     1\n",
      "0.55     1\n",
      "0.44     1\n",
      "0.41     1\n",
      "0.35     1\n",
      "0.33     1\n",
      "0.66     1\n",
      "dtype: int64\n",
      "proanthocyanins\n",
      "1.35    9\n",
      "1.46    7\n",
      "1.87    6\n",
      "1.25    5\n",
      "1.56    4\n",
      "       ..\n",
      "1.36    1\n",
      "1.34    1\n",
      "1.31    1\n",
      "1.30    1\n",
      "3.58    1\n",
      "Length: 101, dtype: int64\n",
      "nonflavanoid_phenols\n",
      "0.26    11\n",
      "0.43    11\n",
      "0.29    10\n",
      "0.32     9\n",
      "0.37     8\n",
      "0.40     8\n",
      "0.34     8\n",
      "0.30     8\n",
      "0.27     8\n",
      "0.53     7\n",
      "0.24     7\n",
      "0.22     6\n",
      "0.21     6\n",
      "0.52     5\n",
      "0.50     5\n",
      "0.39     5\n",
      "0.28     5\n",
      "0.17     5\n",
      "0.63     4\n",
      "0.48     4\n",
      "0.47     4\n",
      "0.42     4\n",
      "0.45     3\n",
      "0.61     3\n",
      "0.60     3\n",
      "0.58     3\n",
      "0.25     2\n",
      "0.14     2\n",
      "0.20     2\n",
      "0.31     2\n",
      "0.19     2\n",
      "0.56     1\n",
      "0.13     1\n",
      "0.55     1\n",
      "0.44     1\n",
      "0.41     1\n",
      "0.35     1\n",
      "0.33     1\n",
      "0.66     1\n",
      "dtype: int64\n",
      "color_intensity\n",
      "2.60     4\n",
      "4.60     4\n",
      "3.80     4\n",
      "5.00     3\n",
      "5.60     3\n",
      "        ..\n",
      "3.95     1\n",
      "3.94     1\n",
      "3.93     1\n",
      "3.90     1\n",
      "13.00    1\n",
      "Length: 132, dtype: int64\n",
      "hue\n",
      "1.040    8\n",
      "1.230    7\n",
      "1.120    6\n",
      "0.890    5\n",
      "0.570    5\n",
      "        ..\n",
      "0.900    1\n",
      "0.906    1\n",
      "0.540    1\n",
      "0.970    1\n",
      "1.710    1\n",
      "Length: 78, dtype: int64\n",
      "od280/od315_of_diluted_wines\n",
      "2.87    5\n",
      "3.00    4\n",
      "1.82    4\n",
      "2.78    4\n",
      "2.31    3\n",
      "       ..\n",
      "2.15    1\n",
      "2.14    1\n",
      "2.12    1\n",
      "2.11    1\n",
      "4.00    1\n",
      "Length: 122, dtype: int64\n",
      "proline\n",
      "680.0     5\n",
      "520.0     5\n",
      "750.0     4\n",
      "630.0     4\n",
      "625.0     4\n",
      "         ..\n",
      "590.0     1\n",
      "570.0     1\n",
      "564.0     1\n",
      "530.0     1\n",
      "1680.0    1\n",
      "Length: 121, dtype: int64\n"
     ]
    }
   ],
   "source": [
    "from sklearn.datasets import load_wine\n",
    "import pandas as pd\n",
    "\n",
    "df = pd.DataFrame(load_wine().data, columns= load_wine().feature_names)\n",
    "df[\"target\"] = load_wine().target\n",
    "print(df.describe())\n",
    "print(df.value_counts(df['alcohol'], sort = True))\n",
    "print(df.value_counts(df['malic_acid'], sort = True))\n",
    "print(df.value_counts(df['ash'], sort = True))\n",
    "print(df.value_counts(df['alcalinity_of_ash'], sort = True))\n",
    "print(df.value_counts(df['magnesium'], sort = True))\n",
    "print(df.value_counts(df['total_phenols'], sort = True))\n",
    "print(df.value_counts(df['flavanoids'], sort = True))\n",
    "print(df.value_counts(df['nonflavanoid_phenols'], sort = True))\n",
    "print(df.value_counts(df['proanthocyanins'], sort = True))\n",
    "print(df.value_counts(df['nonflavanoid_phenols'], sort = True))\n",
    "print(df.value_counts(df['color_intensity'], sort = True))\n",
    "print(df.value_counts(df['hue'], sort = True))\n",
    "print(df.value_counts(df['od280/od315_of_diluted_wines'], sort = True))\n",
    "print(df.value_counts(df['proline'], sort = True))"
   ]
  },
  {
   "cell_type": "markdown",
   "id": "surprising-shame",
   "metadata": {
    "pycharm": {
     "name": "#%% md\n"
    }
   },
   "source": [
    "**Ejercicio 6.**"
   ]
  },
  {
   "cell_type": "markdown",
   "id": "overall-teacher",
   "metadata": {
    "pycharm": {
     "name": "#%% md\n"
    }
   },
   "source": [
    "¿Cual es la clase mayoritaria (\"target\") del dataset?"
   ]
  },
  {
   "cell_type": "markdown",
   "id": "3229e86a",
   "metadata": {},
   "source": [
    "La clase que más se repite (mayoritaria) es malid_acid con un tamaño de 133."
   ]
  },
  {
   "cell_type": "markdown",
   "id": "later-fifty",
   "metadata": {
    "pycharm": {
     "name": "#%% md\n"
    }
   },
   "source": [
    "**Ejercicio 7.**\n",
    "\n",
    "Para la variable `flavanoids` que variables presentan una correlación linear positiva (mayor o igual a 0.6) y negativa (menor o igual a -0.5)"
   ]
  },
  {
   "cell_type": "code",
   "execution_count": 52,
   "id": "42ca91db",
   "metadata": {},
   "outputs": [
    {
     "name": "stdout",
     "output_type": "stream",
     "text": [
      "                               alcohol  malic_acid       ash  \\\n",
      "alcohol                       1.000000    0.094397  0.211545   \n",
      "malic_acid                    0.094397    1.000000  0.164045   \n",
      "ash                           0.211545    0.164045  1.000000   \n",
      "alcalinity_of_ash            -0.310235    0.288500  0.443367   \n",
      "magnesium                     0.270798   -0.054575  0.286587   \n",
      "total_phenols                 0.289101   -0.335167  0.128980   \n",
      "flavanoids                    0.236815   -0.411007  0.115077   \n",
      "nonflavanoid_phenols         -0.155929    0.292977  0.186230   \n",
      "proanthocyanins               0.136698   -0.220746  0.009652   \n",
      "color_intensity               0.546364    0.248985  0.258887   \n",
      "hue                          -0.071747   -0.561296 -0.074667   \n",
      "od280/od315_of_diluted_wines  0.072343   -0.368710  0.003911   \n",
      "proline                       0.643720   -0.192011  0.223626   \n",
      "target                       -0.328222    0.437776 -0.049643   \n",
      "\n",
      "                              alcalinity_of_ash  magnesium  total_phenols  \\\n",
      "alcohol                               -0.310235   0.270798       0.289101   \n",
      "malic_acid                             0.288500  -0.054575      -0.335167   \n",
      "ash                                    0.443367   0.286587       0.128980   \n",
      "alcalinity_of_ash                      1.000000  -0.083333      -0.321113   \n",
      "magnesium                             -0.083333   1.000000       0.214401   \n",
      "total_phenols                         -0.321113   0.214401       1.000000   \n",
      "flavanoids                            -0.351370   0.195784       0.864564   \n",
      "nonflavanoid_phenols                   0.361922  -0.256294      -0.449935   \n",
      "proanthocyanins                       -0.197327   0.236441       0.612413   \n",
      "color_intensity                        0.018732   0.199950      -0.055136   \n",
      "hue                                   -0.273955   0.055398       0.433681   \n",
      "od280/od315_of_diluted_wines          -0.276769   0.066004       0.699949   \n",
      "proline                               -0.440597   0.393351       0.498115   \n",
      "target                                 0.517859  -0.209179      -0.719163   \n",
      "\n",
      "                              flavanoids  nonflavanoid_phenols  \\\n",
      "alcohol                         0.236815             -0.155929   \n",
      "malic_acid                     -0.411007              0.292977   \n",
      "ash                             0.115077              0.186230   \n",
      "alcalinity_of_ash              -0.351370              0.361922   \n",
      "magnesium                       0.195784             -0.256294   \n",
      "total_phenols                   0.864564             -0.449935   \n",
      "flavanoids                      1.000000             -0.537900   \n",
      "nonflavanoid_phenols           -0.537900              1.000000   \n",
      "proanthocyanins                 0.652692             -0.365845   \n",
      "color_intensity                -0.172379              0.139057   \n",
      "hue                             0.543479             -0.262640   \n",
      "od280/od315_of_diluted_wines    0.787194             -0.503270   \n",
      "proline                         0.494193             -0.311385   \n",
      "target                         -0.847498              0.489109   \n",
      "\n",
      "                              proanthocyanins  color_intensity       hue  \\\n",
      "alcohol                              0.136698         0.546364 -0.071747   \n",
      "malic_acid                          -0.220746         0.248985 -0.561296   \n",
      "ash                                  0.009652         0.258887 -0.074667   \n",
      "alcalinity_of_ash                   -0.197327         0.018732 -0.273955   \n",
      "magnesium                            0.236441         0.199950  0.055398   \n",
      "total_phenols                        0.612413        -0.055136  0.433681   \n",
      "flavanoids                           0.652692        -0.172379  0.543479   \n",
      "nonflavanoid_phenols                -0.365845         0.139057 -0.262640   \n",
      "proanthocyanins                      1.000000        -0.025250  0.295544   \n",
      "color_intensity                     -0.025250         1.000000 -0.521813   \n",
      "hue                                  0.295544        -0.521813  1.000000   \n",
      "od280/od315_of_diluted_wines         0.519067        -0.428815  0.565468   \n",
      "proline                              0.330417         0.316100  0.236183   \n",
      "target                              -0.499130         0.265668 -0.617369   \n",
      "\n",
      "                              od280/od315_of_diluted_wines   proline    target  \n",
      "alcohol                                           0.072343  0.643720 -0.328222  \n",
      "malic_acid                                       -0.368710 -0.192011  0.437776  \n",
      "ash                                               0.003911  0.223626 -0.049643  \n",
      "alcalinity_of_ash                                -0.276769 -0.440597  0.517859  \n",
      "magnesium                                         0.066004  0.393351 -0.209179  \n",
      "total_phenols                                     0.699949  0.498115 -0.719163  \n",
      "flavanoids                                        0.787194  0.494193 -0.847498  \n",
      "nonflavanoid_phenols                             -0.503270 -0.311385  0.489109  \n",
      "proanthocyanins                                   0.519067  0.330417 -0.499130  \n",
      "color_intensity                                  -0.428815  0.316100  0.265668  \n",
      "hue                                               0.565468  0.236183 -0.617369  \n",
      "od280/od315_of_diluted_wines                      1.000000  0.312761 -0.788230  \n",
      "proline                                           0.312761  1.000000 -0.633717  \n",
      "target                                           -0.788230 -0.633717  1.000000  \n"
     ]
    }
   ],
   "source": [
    "print(df.corr())"
   ]
  },
  {
   "cell_type": "markdown",
   "id": "4eee8aed",
   "metadata": {},
   "source": [
    "- Una correlación linear positiva de  Flavanoids es con total_phenols (0.864564)\n",
    "- Una correlación linear negativa de Flavanoids es con target (-0.847498)"
   ]
  },
  {
   "cell_type": "markdown",
   "id": "revolutionary-dairy",
   "metadata": {
    "pycharm": {
     "name": "#%% md\n"
    }
   },
   "source": [
    "**Ejercicio 8**\n",
    "\n",
    "En las siguientes celdas se cargará en memoria una representación de las palabras en su forma vectorial. Ejecute e interprete las siguientes celdas"
   ]
  },
  {
   "cell_type": "code",
   "execution_count": 53,
   "id": "hybrid-grant",
   "metadata": {
    "pycharm": {
     "name": "#%%\n"
    }
   },
   "outputs": [
    {
     "data": {
      "text/plain": [
       "243"
      ]
     },
     "execution_count": 53,
     "metadata": {},
     "output_type": "execute_result"
    }
   ],
   "source": [
    "import pickle\n",
    "\n",
    "word_embeddings = pickle.load(open(\"word_embeddings_subset.p\", \"rb\"))\n",
    "len(word_embeddings) # 243 palabras con su representación vectorial"
   ]
  },
  {
   "cell_type": "markdown",
   "id": "1b0c9963",
   "metadata": {},
   "source": [
    "Se evidencia que se carga el archivo 'word_embeddings_subset.p' y muestra su tamaño el cual tiene 243 palabras con su representación vectorial"
   ]
  },
  {
   "cell_type": "code",
   "execution_count": 54,
   "id": "popular-dancing",
   "metadata": {
    "pycharm": {
     "name": "#%%\n"
    }
   },
   "outputs": [
    {
     "name": "stdout",
     "output_type": "stream",
     "text": [
      "dimension: 300\n"
     ]
    }
   ],
   "source": [
    "print(\"dimension: {}\".format(word_embeddings['Spain'].shape[0])) # cada palabra cuenta con una dimensión de 300 valores"
   ]
  },
  {
   "cell_type": "markdown",
   "id": "69371116",
   "metadata": {},
   "source": [
    "Imprime la dimensión del archivo en el cual cada palabra cuenta con una dimensión de 300 valores"
   ]
  },
  {
   "cell_type": "code",
   "execution_count": 55,
   "id": "appointed-teacher",
   "metadata": {
    "pycharm": {
     "name": "#%%\n"
    }
   },
   "outputs": [
    {
     "data": {
      "text/plain": [
       "array([ 0.03149414, -0.18261719,  0.16308594,  0.12451172, -0.01855469,\n",
       "       -0.17382812, -0.12109375, -0.1328125 , -0.125     ,  0.24511719],\n",
       "      dtype=float32)"
      ]
     },
     "execution_count": 55,
     "metadata": {},
     "output_type": "execute_result"
    }
   ],
   "source": [
    "word_embeddings['Spain'][:10] # los 10 primeros valores de la palabra Spain"
   ]
  },
  {
   "cell_type": "markdown",
   "id": "5caac567",
   "metadata": {},
   "source": [
    "Muestra los 10 primeros valores de la palabra Spain"
   ]
  },
  {
   "cell_type": "markdown",
   "id": "extended-complex",
   "metadata": {
    "pycharm": {
     "name": "#%% md\n"
    }
   },
   "source": [
    "*Calcule la similitud coseno de las palabras king y queen*\n",
    "\n",
    "$\\cos (\\theta)=\\frac{\\mathbf{A} \\cdot \\mathbf{B}}{\\|\\mathbf{A}\\|\\|\\mathbf{B}\\|}=\\frac{\\sum_{i=1}^{n} A_{i} B_{i}}{\\sqrt{\\sum_{i=1}^{n} A_{i}^{2}} \\sqrt{\\sum_{i=1}^{n} B_{i}^{2}}}\\tag{1}$\n",
    "\n",
    "<img src=\"formula.png\">\n",
    "<img src=\"fig.png\">"
   ]
  },
  {
   "cell_type": "markdown",
   "id": "through-congress",
   "metadata": {
    "pycharm": {
     "name": "#%% md\n"
    }
   },
   "source": [
    "+ Los numeros entre 0 y 1 indican similitud\n",
    "+ Los numeros entre -1-0 indican una disimilitud \n",
    "\n",
    "¿Cual es su interpretación del indicador en las palabras seleccionadas?"
   ]
  },
  {
   "cell_type": "code",
   "execution_count": 56,
   "id": "29ecf7bd",
   "metadata": {},
   "outputs": [
    {
     "name": "stdout",
     "output_type": "stream",
     "text": [
      "0.6510956883430481\n"
     ]
    }
   ],
   "source": [
    "import scipy\n",
    "from scipy import spatial\n",
    "\n",
    "List1 = [word_embeddings['king']]\n",
    "List2 = [word_embeddings['queen']]\n",
    "result = 1 - spatial.distance.cosine(List1, List2)\n",
    "print(result)"
   ]
  },
  {
   "cell_type": "markdown",
   "id": "4377c23a",
   "metadata": {},
   "source": [
    "De acuerdo al resultado, se evidencia que hay una similitud coseno con las palabras 'king' y 'queen'"
   ]
  },
  {
   "cell_type": "markdown",
   "id": "informative-pontiac",
   "metadata": {
    "pycharm": {
     "name": "#%% md\n"
    }
   },
   "source": [
    "## Unidad 3"
   ]
  },
  {
   "cell_type": "markdown",
   "id": "amateur-maine",
   "metadata": {
    "pycharm": {
     "name": "#%% md\n"
    }
   },
   "source": [
    "Entrene un modelo basado en el algortimo de Naive Bayes a partir de la ejecución de las siguientes lineas de código.\n",
    "\n",
    "```python\n",
    "from sklearn.model_selection import train_test_split\n",
    "from sklearn.naive_bayes import GaussianNB\n",
    "\n",
    "X, y = load_wine(return_X_y=True)\n",
    "X_train, X_test, y_train, y_test = train_test_split(X, y, test_size=0.2, random_state=0)\n",
    "gnb = GaussianNB().fit(X_train, y_train)\n",
    "y_pred = gnb.predict(X_test)\n",
    "\n",
    "from sklearn.metrics import classification_report\n",
    "print(classification_report(y_test, y_pred))\n",
    "```"
   ]
  },
  {
   "cell_type": "code",
   "execution_count": 57,
   "id": "85d15030",
   "metadata": {},
   "outputs": [
    {
     "name": "stdout",
     "output_type": "stream",
     "text": [
      "              precision    recall  f1-score   support\n",
      "\n",
      "           0       0.88      1.00      0.93        14\n",
      "           1       1.00      0.81      0.90        16\n",
      "           2       0.86      1.00      0.92         6\n",
      "\n",
      "    accuracy                           0.92        36\n",
      "   macro avg       0.91      0.94      0.92        36\n",
      "weighted avg       0.93      0.92      0.92        36\n",
      "\n"
     ]
    }
   ],
   "source": [
    "from sklearn.model_selection import train_test_split\n",
    "from sklearn.naive_bayes import GaussianNB\n",
    "\n",
    "X, y = load_wine(return_X_y=True)\n",
    "X_train, X_test, y_train, y_test = train_test_split(X, y, test_size=0.2, random_state=0)\n",
    "gnb = GaussianNB().fit(X_train, y_train)\n",
    "y_pred = gnb.predict(X_test)\n",
    "\n",
    "from sklearn.metrics import classification_report\n",
    "print(classification_report(y_test, y_pred))"
   ]
  },
  {
   "cell_type": "markdown",
   "id": "occupational-gospel",
   "metadata": {
    "pycharm": {
     "name": "#%% md\n"
    }
   },
   "source": [
    "**Ejercicio 9.**\n",
    "+ Investigue e interprete los resultados de la precision\n"
   ]
  },
  {
   "cell_type": "markdown",
   "id": "ab1c6bd5",
   "metadata": {},
   "source": [
    "Precisión: Porcentaje de predicciones positivas correctas respecto al total de predicciones positivas.\n",
    "#podemos decir que para el target 0 se obtuvo un 88% de precicion y para el target 2 hubo un 86% mientras que para el dato 1 hubo un 100% de presicion"
   ]
  },
  {
   "cell_type": "markdown",
   "id": "integrated-picture",
   "metadata": {
    "pycharm": {
     "name": "#%% md\n"
    }
   },
   "source": [
    "**Ejercicio 10.**\n",
    "+ Investigue e interprete los resultados de recall\n"
   ]
  },
  {
   "cell_type": "markdown",
   "id": "824e7301",
   "metadata": {},
   "source": [
    "Recall: Porcentaje de predicciones positivas correctas en relación con el total de positivas reales."
   ]
  },
  {
   "cell_type": "markdown",
   "id": "little-strengthening",
   "metadata": {
    "pycharm": {
     "name": "#%% md\n"
    }
   },
   "source": [
    "**Ejercicio 11.**\n",
    "+ Investigue e interprete los resultados de accuracy"
   ]
  },
  {
   "cell_type": "markdown",
   "id": "a4c6660b",
   "metadata": {},
   "source": [
    "Acuarcy: calcula la puntuación de precisión de un conjunto de etiquetas predichas frente a las etiquetas verdaderas.\n",
    "#se puede decir que el modelo en media tuvo un 92% de acuarcy."
   ]
  },
  {
   "cell_type": "markdown",
   "id": "impressed-understanding",
   "metadata": {
    "pycharm": {
     "name": "#%% md\n"
    }
   },
   "source": [
    "***"
   ]
  },
  {
   "cell_type": "markdown",
   "id": "external-syndication",
   "metadata": {
    "pycharm": {
     "name": "#%% md\n"
    }
   },
   "source": [
    "## Unidad 4"
   ]
  },
  {
   "cell_type": "markdown",
   "id": "interim-quantum",
   "metadata": {
    "pycharm": {
     "name": "#%% md\n"
    }
   },
   "source": [
    "**Ejercicio 12.**"
   ]
  },
  {
   "cell_type": "markdown",
   "id": "innocent-knife",
   "metadata": {
    "pycharm": {
     "name": "#%% md\n"
    }
   },
   "source": [
    "+ Instale la libreria statsmodels e imprima su versión"
   ]
  },
  {
   "cell_type": "markdown",
   "id": "cooked-auditor",
   "metadata": {
    "pycharm": {
     "name": "#%% md\n"
    }
   },
   "source": [
    "Ejecute las siguientes lineas de código\n",
    "\n",
    "```python\n",
    "import pandas as pd\n",
    "from statsmodels.formula.api import ols\n",
    "\n",
    "df = pd.read_csv(\"taiwan_real_estate2.csv\")\n",
    "```"
   ]
  },
  {
   "cell_type": "code",
   "execution_count": 59,
   "id": "9d82d04e",
   "metadata": {},
   "outputs": [],
   "source": [
    "import pandas as pd\n",
    "from statsmodels.formula.api import ols\n",
    "\n",
    "df = pd.read_csv(\"taiwan_real_estate2.csv\")"
   ]
  },
  {
   "cell_type": "markdown",
   "id": "emotional-malpractice",
   "metadata": {
    "pycharm": {
     "name": "#%% md\n"
    }
   },
   "source": [
    "+ Ejecute, investigue e interprete la siguiente linea de código.\n",
    "\n",
    "```python\n",
    "mdl_price_vs_conv = ols(\"price_twd_msq ~ n_convenience\", data=df).fit()\n",
    "```"
   ]
  },
  {
   "cell_type": "code",
   "execution_count": 60,
   "id": "50e8b750",
   "metadata": {},
   "outputs": [],
   "source": [
    "mdl_price_vs_conv = ols(\"price_twd_msq ~ n_convenience\", data=df).fit()"
   ]
  },
  {
   "cell_type": "markdown",
   "id": "charged-ending",
   "metadata": {
    "pycharm": {
     "name": "#%% md\n"
    }
   },
   "source": [
    "**Ejercicio 13.**\n",
    "\n",
    "Ejecute, investigue e interprete el resultado del $R-squared$\n",
    "```python\n",
    "print(mdl_price_vs_conv.summary())\n",
    "```"
   ]
  },
  {
   "cell_type": "code",
   "execution_count": 61,
   "id": "161912a2",
   "metadata": {},
   "outputs": [
    {
     "name": "stdout",
     "output_type": "stream",
     "text": [
      "                            OLS Regression Results                            \n",
      "==============================================================================\n",
      "Dep. Variable:          price_twd_msq   R-squared:                       0.326\n",
      "Model:                            OLS   Adj. R-squared:                  0.324\n",
      "Method:                 Least Squares   F-statistic:                     199.3\n",
      "Date:                Fri, 09 Sep 2022   Prob (F-statistic):           3.41e-37\n",
      "Time:                        07:23:56   Log-Likelihood:                -1091.1\n",
      "No. Observations:                 414   AIC:                             2186.\n",
      "Df Residuals:                     412   BIC:                             2194.\n",
      "Df Model:                           1                                         \n",
      "Covariance Type:            nonrobust                                         \n",
      "=================================================================================\n",
      "                    coef    std err          t      P>|t|      [0.025      0.975]\n",
      "---------------------------------------------------------------------------------\n",
      "Intercept         8.2242      0.285     28.857      0.000       7.664       8.784\n",
      "n_convenience     0.7981      0.057     14.118      0.000       0.687       0.909\n",
      "==============================================================================\n",
      "Omnibus:                      171.927   Durbin-Watson:                   1.993\n",
      "Prob(Omnibus):                  0.000   Jarque-Bera (JB):             1417.242\n",
      "Skew:                           1.553   Prob(JB):                    1.78e-308\n",
      "Kurtosis:                      11.516   Cond. No.                         8.87\n",
      "==============================================================================\n",
      "\n",
      "Notes:\n",
      "[1] Standard Errors assume that the covariance matrix of the errors is correctly specified.\n"
     ]
    }
   ],
   "source": [
    "print(mdl_price_vs_conv.summary())"
   ]
  },
  {
   "cell_type": "markdown",
   "id": "coordinated-canal",
   "metadata": {
    "pycharm": {
     "name": "#%% md\n"
    }
   },
   "source": [
    "**Ejercicio 14.**\n",
    "\n",
    "La siguiente linea de código nos permite acceder a los componentes de la regresión lineal simple \n",
    "```python\n",
    "mdl_price_vs_conv.params\n",
    "```\n",
    "\n",
    "$ Y = a + b*X$\n",
    "\n",
    "Ejecute la siguiente linea de código para crear la varible independiente $X$\n",
    "\n",
    "```python\n",
    "explanatory_data = pd.DataFrame({'n_convenience': np.arange(0,11)})\n",
    "```\n",
    "+ Complete $ Y = a + b*X$ y compare los resultados del método predict de `mdl_price_vs_conv` con $X$"
   ]
  },
  {
   "cell_type": "code",
   "execution_count": 62,
   "id": "3a451a81",
   "metadata": {},
   "outputs": [
    {
     "data": {
      "text/plain": [
       "<bound method NDFrame.describe of     n_convenience\n",
       "0               0\n",
       "1               1\n",
       "2               2\n",
       "3               3\n",
       "4               4\n",
       "5               5\n",
       "6               6\n",
       "7               7\n",
       "8               8\n",
       "9               9\n",
       "10             10>"
      ]
     },
     "execution_count": 62,
     "metadata": {},
     "output_type": "execute_result"
    }
   ],
   "source": [
    "mdl_price_vs_conv.params\n",
    "explanatory_data = pd.DataFrame({'n_convenience': np.arange(0,11)})\n",
    "explanatory_data.describe"
   ]
  },
  {
   "cell_type": "markdown",
   "id": "destroyed-indication",
   "metadata": {
    "pycharm": {
     "name": "#%% md\n"
    }
   },
   "source": [
    "## Unidad 5"
   ]
  },
  {
   "cell_type": "markdown",
   "id": "attempted-concord",
   "metadata": {
    "pycharm": {
     "name": "#%% md\n"
    }
   },
   "source": [
    "Ejecute la siguientes lineas de código \n",
    "\n",
    "```python\n",
    "import numpy as np\n",
    "import matplotlib.pyplot as plt\n",
    "\n",
    "rgb = np.array([[[255, 0, 0], [255, 0 ,0], [255, 0, 0]],\n",
    "              [[0, 255, 0], [0, 255, 0], [0, 255, 0]],\n",
    "              [[0, 0, 255], [0, 0, 255], [0, 0, 255]]])\n",
    "\n",
    "plt.imshow(rgb)\n",
    "plt.show()\n",
    "```"
   ]
  },
  {
   "cell_type": "code",
   "execution_count": 63,
   "id": "265d8ee1",
   "metadata": {},
   "outputs": [
    {
     "data": {
      "image/png": "[encoded data removed]",
      "text/plain": [
       "<Figure size 432x288 with 1 Axes>"
      ]
     },
     "metadata": {
      "needs_background": "light"
     },
     "output_type": "display_data"
    }
   ],
   "source": [
    "import numpy as np\n",
    "import matplotlib.pyplot as plt\n",
    "\n",
    "rgb = np.array([[[255, 0, 0], [255, 0 ,0], [255, 0, 0]],\n",
    "              [[0, 255, 0], [0, 255, 0], [0, 255, 0]],\n",
    "              [[0, 0, 255], [0, 0, 255], [0, 0, 255]]])\n",
    "\n",
    "plt.imshow(rgb)\n",
    "plt.show()"
   ]
  },
  {
   "cell_type": "markdown",
   "id": "human-bangladesh",
   "metadata": {
    "pycharm": {
     "name": "#%% md\n"
    }
   },
   "source": [
    "Ejecute las siguiente lineas de código \n",
    "\n",
    "```python\n",
    "colors = np.array([[[255, 0, 0], [255, 255 ,0], [255, 255, 255]],\n",
    "              [[255, 0, 255], [0, 255, 0], [0, 255, 255]],\n",
    "              [[0, 0, 0], [0, 255, 255], [0, 0, 255]]])\n",
    "\n",
    "plt.imshow(colors)\n",
    "plt.show()\n",
    "```"
   ]
  },
  {
   "cell_type": "code",
   "execution_count": 64,
   "id": "64bd6622",
   "metadata": {},
   "outputs": [
    {
     "data": {
      "image/png": "[encoded data removed]",
      "text/plain": [
       "<Figure size 432x288 with 1 Axes>"
      ]
     },
     "metadata": {
      "needs_background": "light"
     },
     "output_type": "display_data"
    }
   ],
   "source": [
    "colors = np.array([[[255, 0, 0], [255, 255 ,0], [255, 255, 255]],\n",
    "              [[255, 0, 255], [0, 255, 0], [0, 255, 255]],\n",
    "              [[0, 0, 0], [0, 255, 255], [0, 0, 255]]])\n",
    "\n",
    "plt.imshow(colors)\n",
    "plt.show()"
   ]
  },
  {
   "cell_type": "markdown",
   "id": "surface-stuff",
   "metadata": {
    "pycharm": {
     "name": "#%% md\n"
    }
   },
   "source": [
    "**Ejercicio 15.**\n",
    "\n",
    "+ Utilice el método where de numpy para cambiar los valores de `colors` de 255 a 50\n",
    "+ utilice imshow() para mostrar el resultado "
   ]
  },
  {
   "cell_type": "markdown",
   "id": "coordinated-insurance",
   "metadata": {
    "pycharm": {
     "name": "#%% md\n"
    }
   },
   "source": [
    "Ejecute las siguientes lineas de código\n",
    "```python\n",
    "from matplotlib import image\n",
    "from matplotlib import pyplot\n",
    "\n",
    "ima = image.imread('hack')\n",
    "pyplot.imshow(ima)\n",
    "print(type(ima))\n",
    "```"
   ]
  },
  {
   "cell_type": "code",
   "execution_count": 66,
   "id": "76faabf6",
   "metadata": {},
   "outputs": [
    {
     "name": "stdout",
     "output_type": "stream",
     "text": [
      "[[[50  0  0]\n",
      "  [50 50  0]\n",
      "  [50 50 50]]\n",
      "\n",
      " [[50  0 50]\n",
      "  [ 0 50  0]\n",
      "  [ 0 50 50]]\n",
      "\n",
      " [[ 0  0  0]\n",
      "  [ 0 50 50]\n",
      "  [ 0  0 50]]]\n"
     ]
    },
    {
     "data": {
      "text/plain": [
       "<matplotlib.image.AxesImage at 0x7fa8e057a520>"
      ]
     },
     "execution_count": 66,
     "metadata": {},
     "output_type": "execute_result"
    },
    {
     "data": {
      "image/png": "[encoded data removed]",
      "text/plain": [
       "<Figure size 432x288 with 1 Axes>"
      ]
     },
     "metadata": {
      "needs_background": "light"
     },
     "output_type": "display_data"
    }
   ],
   "source": [
    "colors = np.where((colors == 255),50,colors)\n",
    "print(colors)\n",
    "plt.imshow(colors)"
   ]
  },
  {
   "cell_type": "code",
   "execution_count": 1,
   "id": "f79a6e97",
   "metadata": {},
   "outputs": [
    {
     "name": "stdout",
     "output_type": "stream",
     "text": [
      "<class 'numpy.ndarray'>\n"
     ]
    },
    {
     "data": {
      "image/png": "[encoded data removed]",
      "text/plain": [
       "<Figure size 432x288 with 1 Axes>"
      ]
     },
     "metadata": {
      "needs_background": "light"
     },
     "output_type": "display_data"
    }
   ],
   "source": [
    "from matplotlib import image\n",
    "from matplotlib import pyplot\n",
    "from numpy import ndarray\n",
    "\n",
    "ima = image.imread('hack')\n",
    "pyplot.imshow(ima)\n",
    "print(type(ima))"
   ]
  },
  {
   "cell_type": "markdown",
   "id": "banner-nicaragua",
   "metadata": {
    "pycharm": {
     "name": "#%% md\n"
    }
   },
   "source": [
    "**Ejercicio 16.**\n",
    "\n",
    "+ Obtenga la dimensión del verde de `ima`\n",
    "+ Utilice imshow() para mostrar el resultado"
   ]
  },
  {
   "cell_type": "code",
   "execution_count": 52,
   "id": "1e87f8d6",
   "metadata": {},
   "outputs": [
    {
     "name": "stderr",
     "output_type": "stream",
     "text": [
      "Clipping input data to the valid range for imshow with RGB data ([0..1] for floats or [0..255] for integers).\n"
     ]
    },
    {
     "data": {
      "text/plain": [
       "<matplotlib.image.AxesImage at 0x7f79b1e373a0>"
      ]
     },
     "execution_count": 52,
     "metadata": {},
     "output_type": "execute_result"
    },
    {
     "data": {
      "image/png": "[encoded data removed]",
      "text/plain": [
       "<Figure size 432x288 with 1 Axes>"
      ]
     },
     "metadata": {
      "needs_background": "light"
     },
     "output_type": "display_data"
    }
   ],
   "source": [
    "newIma = np.zeros(800*1000*3).reshape(800,1000,3)\n",
    "newIma[:,:,1] = ima[:,:,1]\n",
    "pyplot.imshow(newIma)\n"
   ]
  },
  {
   "cell_type": "markdown",
   "id": "entertaining-craft",
   "metadata": {
    "pycharm": {
     "name": "#%% md\n"
    }
   },
   "source": [
    "**Ejercicio 17.**\n",
    "\n",
    "+ Investigue y utilice un método en numpy que le permita dar vuelta a `ima` \n",
    "+ Utilice imshow() y show() para mostrar el resultado"
   ]
  },
  {
   "cell_type": "code",
   "execution_count": 39,
   "id": "07c1fb36",
   "metadata": {},
   "outputs": [
    {
     "data": {
      "image/png": "[encoded data removed]",
      "text/plain": [
       "<Figure size 432x288 with 1 Axes>"
      ]
     },
     "metadata": {
      "needs_background": "light"
     },
     "output_type": "display_data"
    }
   ],
   "source": [
    "ima = np.rot90(ima)\n",
    "pyplot.imshow(ima)\n",
    "pyplot.show()\n",
    "\n"
   ]
  }
 ],
 "metadata": {
  "kernelspec": {
   "display_name": "Python 3.9.12 ('base')",
   "language": "python",
   "name": "python3"
  },
  "language_info": {
   "codemirror_mode": {
    "name": "ipython",
    "version": 3
   },
   "file_extension": ".py",
   "mimetype": "text/x-python",
   "name": "python",
   "nbconvert_exporter": "python",
   "pygments_lexer": "ipython3",
   "version": "3.9.12"
  },
  "vscode": {
   "interpreter": {
    "hash": "a5a989a0b9c62b04ee600a8d3cc7466483c74b57a24e7b0f4faa72d83fc2c880"
   }
  }
 },
 "nbformat": 4,
 "nbformat_minor": 5
}
